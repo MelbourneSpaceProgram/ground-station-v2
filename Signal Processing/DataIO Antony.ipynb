{
 "cells": [
  {
   "cell_type": "markdown",
   "metadata": {},
   "source": [
    "# Data Input/Output for Signal Processing\n",
    "#### Input: \n",
    "Takes in data file (text or image) and processes it into binary data. The first byte (8 bits) encodes the data format that is being transmitted - this is able to handle 3-bit errors\n",
    "\n",
    "#### Output: \n",
    "Takes in binary data, depending on the format (encoded in the first 8 bits - either image or text), output is processed and saved to a suitable format. "
   ]
  },
  {
   "cell_type": "code",
   "execution_count": 7,
   "metadata": {},
   "outputs": [],
   "source": [
    "## Import modules\n",
    "import numpy as np\n",
    "from datetime import datetime"
   ]
  },
  {
   "cell_type": "code",
   "execution_count": 28,
   "metadata": {},
   "outputs": [
    {
     "name": "stdout",
     "output_type": "stream",
     "text": [
      "[0 1 0 1 0 1 0 1 0 1 1 0 1 0 0 0 0 1 1 0 0 1 0 1 0 1 1 0 1 1 0 0 0 1 1 0 1\n",
      " 1 0 0 0 1 1 0 1 1 1 1 0 0 1 0 0 0 0 0 0 1 1 1 0 1 1 1 0 1 1 0 1 1 1 1 0 1\n",
      " 1 1 0 0 1 0 0 1 1 0 1 1 0 0 0 1 1 0 0 1 0 0 0 0 1 0 0 0 0 1]\n",
      "104\n"
     ]
    }
   ],
   "source": [
    "## read in a file - image or text - convert it to binary data\n",
    "\n",
    "\n",
    "# get the filename\n",
    "filename = \"hello_world.txt\"\n",
    "\n",
    "# acceptable image formats for transmission\n",
    "IM_FORMATS = ['png', 'jpeg']\n",
    "\n",
    "\n",
    "# byte value representing the format of the data \n",
    "IM_CODE = 170 # 170 (uint8) = 10101010 (every even index is 1) in binary\n",
    "TXT_CODE = 85 # 85 (uint8) = 01010101 (every odd index is 1) in binary\n",
    "# able to handle 3-bit errors - needs to be robust as entire data packet depends on this value\n",
    "\n",
    "# split into components - file type ext and title\n",
    "fn = filename.split('.')\n",
    "filetype = fn[-1].lower()\n",
    "f_title = fn[0]\n",
    "\n",
    "\n",
    "\n",
    "\n",
    "# since channel can be used to transcieve images and text, we encode the format as the first byte\n",
    "# according to filetype\n",
    "if filetype in IM_FORMATS:\n",
    "    ft_code = IM_CODE \n",
    "else:\n",
    "    ft_code = TXT_CODE \n",
    "\n",
    "\n",
    "\n",
    "\n",
    "# convert file contents to 8-bit integers (bytes)\n",
    "send_bytes = np.fromfile(filename, dtype = \"uint8\")\n",
    "\n",
    "# add filetype indicator as first value\n",
    "send_bytes = np.insert(send_bytes, 0, ft_code)\n",
    "\n",
    "# convert bytes into bits \n",
    "send_bits = np.unpackbits(send_bytes)\n",
    "\n",
    "print(send_bits)\n",
    "\n",
    "\n",
    "\n",
    "# produce list of binary data\n",
    "send_data = list(send_bits)\n",
    "\n",
    "\n",
    "binary_file = open('transmit.bin', 'wb')\n",
    "send_bits.tofile(binary_file)\n",
    "binary_file.close()\n",
    "\n",
    "\n",
    "\n",
    "\n",
    "print(len(send_data))"
   ]
  },
  {
   "cell_type": "code",
   "execution_count": 50,
   "metadata": {},
   "outputs": [
    {
     "name": "stdout",
     "output_type": "stream",
     "text": [
      "[  0 128   0 128   0 128   0 128   0 128 128   0 128   0   0   0   0 128\n",
      " 128   0   0 128   0 128   0 128 128   0 128 128   0   0   0 128 128   0\n",
      " 128 128   0   0   0 128 128   0 128 128 128 128   0   0 128   0   0   0\n",
      "   0   0   0 128 128 128   0 128 128 128   0 128 128   0 128 128 128 128\n",
      "   0 128 128 128   0   0 128   0   0 128 128   0 128 128   0   0   0 128\n",
      " 128   0   0 128   0   0   0   0 128   0   0   0   0]\n"
     ]
    }
   ],
   "source": [
    "## read in (received) data and convert it out of binary \n",
    "\n",
    "\n",
    "IM_SAVE_FORM = '.png'\n",
    "\n",
    "\n",
    "# receive the binary data (bits)\n",
    "received_bits = np.fromfile('receive.bin', 'uint8')\n",
    "\n",
    "# check if the sent bits match the received bits - ensures code is working (in absence of interference)\n",
    "#print(\"All bits match: \", np.all(received_bits == send_bits))\n",
    "\n",
    "# extract the format of the data (first 8 bits)\n",
    "format_code = received_bits[:8]\n",
    "\n",
    "\n",
    "fc_odd = sum(format_code[1::2]) # sum of bits at odd indices\n",
    "fc_even = sum(format_code[0::2]) # sum of bits at even indices\n",
    "\n",
    "# if more 1s at even indices, format = image\n",
    "# Image = 10101010\n",
    "# Text = 01010101\n",
    "if fc_even > fc_odd:\n",
    "    save_form = IM_SAVE_FORM\n",
    "    \n",
    "# otherwise it is text format\n",
    "else:\n",
    "    save_form = '.txt'\n",
    "\n",
    "# remove the format code from the data\n",
    "received_bits = received_bits[8:]\n",
    "\n",
    "\n",
    "# get timestamp for current time\n",
    "cur_date = datetime.now().strftime(\"%Y_%m_%d_%I-%M-%S_%p\")\n",
    "\n",
    "# convert bits to bytes\n",
    "received_bytes = np.packbits(received_bits)\n",
    "print(received_bytes)\n",
    "\n",
    "# save to output file\n",
    "#received_bytes.tofile(\"rec_\"+ cur_date + save_form) \n",
    "received_bytes.tofile(\"rec_\"+ save_form)"
   ]
  },
  {
   "cell_type": "code",
   "execution_count": null,
   "metadata": {},
   "outputs": [],
   "source": []
  }
 ],
 "metadata": {
  "interpreter": {
   "hash": "ed7457b2fbc1e5938d6b52aaab6d7e4f6bc93b0345f28e0e0c546b87a896ce98"
  },
  "kernelspec": {
   "display_name": "Python 3 (ipykernel)",
   "language": "python",
   "name": "python3"
  },
  "language_info": {
   "codemirror_mode": {
    "name": "ipython",
    "version": 3
   },
   "file_extension": ".py",
   "mimetype": "text/x-python",
   "name": "python",
   "nbconvert_exporter": "python",
   "pygments_lexer": "ipython3",
   "version": "3.9.1"
  }
 },
 "nbformat": 4,
 "nbformat_minor": 2
}
